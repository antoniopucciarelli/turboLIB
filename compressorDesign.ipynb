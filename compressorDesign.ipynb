{
 "cells": [
  {
   "cell_type": "markdown",
   "metadata": {},
   "source": [
    "# Axial turbomachinery design\n",
    "### turbomachinery: **axial compressor**\n",
    "### target:\n",
    "- $\\beta = 1.45$\n",
    "- max efficiency \n",
    "### constraints:\n",
    "- $\\dot{m} = 100 \\frac{kg}{s}$\n",
    "- $r_{tip}|_{max} = 0.9 m$\n",
    "### inlet conditions:\n",
    "- $P_{T0} = 1 bar$\n",
    "- $T_{T0} = 300 K$"
   ]
  },
  {
   "cell_type": "code",
   "execution_count": 142,
   "metadata": {},
   "outputs": [],
   "source": [
    "# importing libraries \n",
    "import numpy as np \n",
    "from thermoTransf.thermoProcess import *\n",
    "from turboCoeff.similarity import *\n",
    "import matplotlib.pyplot as plt \n",
    "\n",
    "# data\n",
    "# constraints\n",
    "mFlux = 100  # mass flux                [kg/s]\n",
    "betaP = 1.45 # compression ratio        [--]\n",
    "maxR  = 0.9  # maximum tip radius       [m]\n",
    "\n",
    "# inlet values\n",
    "Pt0 = 1e+5   # inlet total pressure     [Pa]\n",
    "Tt0 = 300    # inlet total temperature  [K]"
   ]
  },
  {
   "cell_type": "markdown",
   "metadata": {},
   "source": [
    "### Data and air properties\n",
    "- air properties do not change in the stage\n",
    "- $\\beta$ allows using a single stage axial compressor \n",
    "    - it is worth noting we are close to the **efficiency limit** for an axial compressor stage\n",
    "    - with respect to this $\\eta \\approx 0.9$\n",
    "        - this can be seen as a good efficiency value\n",
    "        - using a single stage compressor allows reducing **weight**\n",
    "- $\\eta \\approx 0.9$ suggests:\n",
    "    - $\\chi \\approx 0.55$ \n",
    "    - $\\phi \\approx 0.3$ \n",
    "- $V_{t0} \\approx 0 \\frac{m}{s}$, so mainly only axial flow speed $V_0$\n",
    "- $r_{mean} \\approx 0.75 m$\n",
    "- it is assumed that the revolution velocity at the midspan of the blade is equal at the inlet and at the outlet: $U_0|_{midspan} = U_1|_{midspan} = U_{mean}$"
   ]
  },
  {
   "cell_type": "code",
   "execution_count": 143,
   "metadata": {},
   "outputs": [],
   "source": [
    "# air properties allocation \n",
    "R     = 287.06                  # air gas constant Ru / Mm      [J/kg K]\n",
    "gamma = 1.4                     # specific heat ratio           [--]\n",
    "cP    = gamma / (gamma - 1) * R # specific heat ratio @ P cost  [J/kg K]\n",
    "cV    = cP - R                  # specific heat ratio @ V cost  [J/kg K]\n",
    "\n",
    "# stage hypothesis\n",
    "eta = 0.9    # stage efficiency \n",
    "rD  = 0.55   # reaction degree \n",
    "psi = 0.3    # \n",
    "phi = 0.6    #\n",
    "rMean = 0.2 # stage mean radius -> radius @ inlet blade midspan  \n",
    "Vt0 = 0      # inlet aboslute tangential speed"
   ]
  },
  {
   "cell_type": "markdown",
   "metadata": {},
   "source": [
    "work computation"
   ]
  },
  {
   "cell_type": "code",
   "execution_count": 144,
   "metadata": {},
   "outputs": [
    {
     "name": "stdout",
     "output_type": "stream",
     "text": [
      "Lis   =   33758.53 J/kg\n",
      "Tt1is =     333.60 K\n",
      "L     =   37509.48 J/kg\n",
      "Tt1r  =     337.33 K\n"
     ]
    }
   ],
   "source": [
    "# ideal compression work \n",
    "Lis = cP * Tt0 * (betaP**((gamma-1)/gamma) - 1)\n",
    "# real compression work given eta \n",
    "L = Lis / eta\n",
    "# total temperature computation\n",
    "Tt1is = Lis / cP + Tt0\n",
    "Tt1r = L / cP + Tt0 \n",
    "# print data \n",
    "print('Lis   = {0:>10.2f} J/kg'.format(Lis))\n",
    "print('Tt1is = {0:>10.2f} K'.format(Tt1is))\n",
    "print('L     = {0:>10.2f} J/kg'.format(L))\n",
    "print('Tt1r  = {0:>10.2f} K'.format(Tt1r))"
   ]
  },
  {
   "cell_type": "markdown",
   "metadata": {},
   "source": [
    "revolution speed and angular speed computation"
   ]
  },
  {
   "cell_type": "code",
   "execution_count": 145,
   "metadata": {},
   "outputs": [
    {
     "name": "stdout",
     "output_type": "stream",
     "text": [
      "Umean =     335.45 m/s \n",
      "omega =    1677.26 rad/s\n",
      "n     =   16017    rpm\n"
     ]
    }
   ],
   "source": [
    "# mean section revolution speed  \n",
    "Umean = np.sqrt(Lis / psi) \n",
    "# angular speed \n",
    "omega = Umean / rMean\n",
    "# rpm \n",
    "n = omega * 60 / (2 * np.pi)\n",
    "# print data\n",
    "print('Umean = {0:>10.2f} m/s \\nomega = {1:>10.2f} rad/s\\nn     = {2:>7.0f}    rpm'.format(Umean, omega, n))  "
   ]
  },
  {
   "cell_type": "markdown",
   "metadata": {},
   "source": [
    "axial inlet velocity computation"
   ]
  },
  {
   "cell_type": "code",
   "execution_count": 146,
   "metadata": {},
   "outputs": [
    {
     "name": "stdout",
     "output_type": "stream",
     "text": [
      "Va0 =     201.27 m/s\n"
     ]
    }
   ],
   "source": [
    "# axial inlet velocity \n",
    "Va0 = phi * Umean\n",
    "print('Va0 = {0:>10.2f} m/s'.format(Va0))"
   ]
  },
  {
   "cell_type": "markdown",
   "metadata": {},
   "source": [
    "tangential velocity computation"
   ]
  },
  {
   "cell_type": "code",
   "execution_count": 147,
   "metadata": {},
   "outputs": [
    {
     "name": "stdout",
     "output_type": "stream",
     "text": [
      "Vinft =      50.32 m/s\n",
      "Vt1   =     100.64 m/s\n"
     ]
    }
   ],
   "source": [
    "# under Umean assumption & Vt0 assumption \n",
    "lam = 2 * Lis / Umean**2\n",
    "Vinft = Umean * lam / 4 + Vt0\n",
    "Vt1 = 2 * Vinft - Vt0   \n",
    "print('Vinft = {0:>10.2f} m/s'.format(Vinft))\n",
    "print('Vt1   = {0:>10.2f} m/s'.format(Vt1))"
   ]
  },
  {
   "cell_type": "markdown",
   "metadata": {},
   "source": [
    "inlet quantities"
   ]
  },
  {
   "cell_type": "code",
   "execution_count": 148,
   "metadata": {},
   "outputs": [
    {
     "name": "stdout",
     "output_type": "stream",
     "text": [
      "Wa0  =     201.27 m/s\n",
      "Wt0  =    -335.45 m/s\n",
      "W0   =     391.20 m/s\n",
      "V0   =     201.27 m/s\n",
      "T0   =     279.84 K\n",
      "a0   =     335.36 m/s\n",
      "M0   =       0.60 \n",
      "P0   =       0.78 bar\n",
      "rho0 =       0.98 kg/m3\n"
     ]
    }
   ],
   "source": [
    "# main inlet quantities computation\n",
    "Wa0 = Va0\n",
    "Wt0 = Vt0 - Umean\n",
    "W0 = np.sqrt(Wa0**2 + Wt0**2)\n",
    "V0 = np.sqrt(Va0**2 + Vt0**2)\n",
    "# thermodynamics\n",
    "T0 = Tt0 - V0**2 / (2*cP)\n",
    "a0 = np.sqrt(gamma * R * T0)\n",
    "M0 = V0 / a0\n",
    "P0 = Pt0 / (1 + (gamma - 1)/2 * M0**2)**(gamma/(gamma-1))\n",
    "rho0 = P0 / (R * T0)\n",
    "# print data \n",
    "print('Wa0  = {0:>10.2f} m/s'.format(Wa0))\n",
    "print('Wt0  = {0:>10.2f} m/s'.format(Wt0))\n",
    "print('W0   = {0:>10.2f} m/s'.format(W0))\n",
    "print('V0   = {0:>10.2f} m/s'.format(V0))\n",
    "print('T0   = {0:>10.2f} K'.format(T0))\n",
    "print('a0   = {0:>10.2f} m/s'.format(a0))\n",
    "print('M0   = {0:>10.2f} '.format(M0))\n",
    "print('P0   = {0:>10.2f} bar'.format(P0/1e+5))\n",
    "print('rho0 = {0:>10.2f} kg/m3'.format(rho0))"
   ]
  },
  {
   "cell_type": "markdown",
   "metadata": {},
   "source": [
    "inlet blade height"
   ]
  },
  {
   "cell_type": "code",
   "execution_count": 149,
   "metadata": {},
   "outputs": [
    {
     "name": "stdout",
     "output_type": "stream",
     "text": [
      "b0 =       0.41 m\n"
     ]
    }
   ],
   "source": [
    "# inlet blade height \n",
    "b0 = mFlux / (rho0 * 2 * np.pi * rMean * Va0)\n",
    "print('b0 = {0:>10.2f} m'.format(b0))"
   ]
  },
  {
   "cell_type": "markdown",
   "metadata": {},
   "source": [
    "outlet quantities"
   ]
  },
  {
   "cell_type": "code",
   "execution_count": 150,
   "metadata": {},
   "outputs": [
    {
     "name": "stdout",
     "output_type": "stream",
     "text": [
      "Wa1   =     201.27 m/s\n",
      "Wt1   =    -234.82 m/s\n",
      "W1    =     309.27 m/s\n",
      "V1    =     225.03 m/s\n",
      "T1    =     308.40 K\n",
      "a1    =     352.05 m/s\n",
      "M1    =       0.64 \n",
      "P1    =       1.10 bar\n",
      "rho1  =       1.24 kg/m3\n",
      "Pt1is =       1.45 bar\n"
     ]
    }
   ],
   "source": [
    "# main outlet quantities \n",
    "Va1 = Va0 \n",
    "Wa1 = Va1 \n",
    "Wt1 = Vt1 - Umean\n",
    "V1 = np.sqrt(Va1**2 + Vt1**2)\n",
    "W1 = np.sqrt(Wa1**2 + Wt1**2)\n",
    "# thermodynamics\n",
    "T1 = Tt1is - V1**2 / (2*cP)\n",
    "a1 = np.sqrt(gamma * R * T1)\n",
    "M1 = V1 / a1\n",
    "P1 = P0 * (T1/T0)**(gamma/(gamma-1))\n",
    "Pt1is = P1 * (Tt1is/T1)**(gamma/(gamma-1))\n",
    "rho1 = P1 / (R * T1) \n",
    "# print data \n",
    "print('Wa1   = {0:>10.2f} m/s'.format(Wa1))\n",
    "print('Wt1   = {0:>10.2f} m/s'.format(Wt1))\n",
    "print('W1    = {0:>10.2f} m/s'.format(W1))\n",
    "print('V1    = {0:>10.2f} m/s'.format(V1))\n",
    "print('T1    = {0:>10.2f} K'.format(T1))\n",
    "print('a1    = {0:>10.2f} m/s'.format(a1))\n",
    "print('M1    = {0:>10.2f} '.format(M1))\n",
    "print('P1    = {0:>10.2f} bar'.format(P1/1e+5))\n",
    "print('rho1  = {0:>10.2f} kg/m3'.format(rho1))\n",
    "print('Pt1is = {0:>10.2f} bar'.format(Pt1is/1e+5))"
   ]
  },
  {
   "cell_type": "markdown",
   "metadata": {},
   "source": [
    "outlet blade height computation"
   ]
  },
  {
   "cell_type": "code",
   "execution_count": 151,
   "metadata": {},
   "outputs": [
    {
     "name": "stdout",
     "output_type": "stream",
     "text": [
      "b1 =       0.32 m\n"
     ]
    }
   ],
   "source": [
    "# outlet blade height\n",
    "b1 = mFlux / (rho1 * 2 * np.pi * rMean * Va1)\n",
    "print('b1 = {0:>10.2f} m'.format(b1))"
   ]
  },
  {
   "cell_type": "markdown",
   "metadata": {},
   "source": [
    "### Blade design \n",
    "#### model: **free vortex** $\\frac{\\partial r V_t}{\\partial r} = 0$\n",
    "### hypothesis:\n",
    "- $\\frac{\\partial r h_1}{\\partial r} = 0$\n",
    "\n",
    "- $\\frac{\\partial r V_{a1}}{\\partial r} = 0$\n",
    "\n",
    "- $s$ evolution along the blade span"
   ]
  },
  {
   "cell_type": "code",
   "execution_count": null,
   "metadata": {},
   "outputs": [],
   "source": []
  }
 ],
 "metadata": {
  "interpreter": {
   "hash": "916dbcbb3f70747c44a77c7bcd40155683ae19c65e1c03b4aa3499c5328201f1"
  },
  "kernelspec": {
   "display_name": "Python 3.8.10 64-bit",
   "language": "python",
   "name": "python3"
  },
  "language_info": {
   "codemirror_mode": {
    "name": "ipython",
    "version": 3
   },
   "file_extension": ".py",
   "mimetype": "text/x-python",
   "name": "python",
   "nbconvert_exporter": "python",
   "pygments_lexer": "ipython3",
   "version": "3.8.10"
  },
  "orig_nbformat": 4
 },
 "nbformat": 4,
 "nbformat_minor": 2
}

{
 "cells": [
  {
   "cell_type": "markdown",
   "metadata": {},
   "source": [
    "# Axial turbomachine design"
   ]
  },
  {
   "cell_type": "markdown",
   "metadata": {},
   "source": [
    "### turbomachinery: **axial compressor**\n",
    "### target:\n",
    "- $\\beta = \\frac{P_{t1}}{P_{t0}} = 1.45$\n",
    "\n",
    "- max efficiency \n",
    "### constraints:\n",
    "- $\\dot{m} = 100 \\frac{kg}{s}$\n",
    "- $r_{tip}|_{max} = 0.9 m$\n",
    "### compressor inlet conditions:\n",
    "- $P_{T0} = 1 bar$\n",
    "- $T_{T0} = 300 K$"
   ]
  },
  {
   "cell_type": "code",
   "execution_count": 37,
   "metadata": {},
   "outputs": [],
   "source": [
    "# importing libraries \n",
    "import numpy as np \n",
    "from thermoTransf.thermoProcess import *\n",
    "from turboCoeff.similarity import *\n",
    "\n",
    "# data\n",
    "# constraints\n",
    "mFlux = 100  # mass flux                [kg/s]\n",
    "betaP = 1.45 # compression ratio        [--]\n",
    "maxR  = 0.9  # maximum tip radius       [m]\n",
    "\n",
    "# inlet values\n",
    "Pt0 = 1e+5   # inlet total pressure     [Pa]\n",
    "Tt0 = 300    # inlet total temperature  [K]"
   ]
  },
  {
   "cell_type": "markdown",
   "metadata": {},
   "source": [
    "### Air properties, data from **charts** & other **design assumptions**"
   ]
  },
  {
   "cell_type": "markdown",
   "metadata": {},
   "source": [
    "Air properties:\n",
    "- air properties **do not change** in the stage\n",
    "\n",
    "Data from charts:\n",
    "- $\\beta$ allows using a single stage axial compressor \n",
    "\n",
    "    - it is worth noting we are close to the **efficiency limit** for an axial compressor stage ($max \\approx 1.6$)\n",
    "\n",
    "    - with respect to this $\\eta \\approx 0.923$\n",
    "\n",
    "        - this can be seen as a good efficiency value\n",
    "\n",
    "        - using a single stage compressor allows reducing **weight**\n",
    "\n",
    "- $\\eta \\approx 0.923$ and $\\chi \\approx 0.5$ suggest:\n",
    "\n",
    "    - $\\phi \\approx 0.6$ \n",
    "\n",
    "    - $\\psi \\approx 0.3$ \n",
    "\n",
    "Other design assumptions:\n",
    "\n",
    "- $V_{t0} \\approx 0 \\frac{m}{s}$, so mainly only axial flow speed $V_0$\n",
    "\n",
    "- $r_{mean} \\approx 0.7 m$\n",
    "\n",
    "- it is assumed that the revolution velocity at the midspan of the blade is equal at the inlet and at the outlet: $U_0|_{midspan} = U_1|_{midspan} = U_2|_{midspan} = U_{mean}$    \n",
    "\n",
    "    - the blade midspan keeps always the same radius\n",
    "- it is assumed that $\\alpha_2 \\approx 5^{\\circ}$\n",
    "\n",
    "    - little **swirl** at the outlet of the stator before a *possible* combustion chamber\n",
    "\n",
    "- the stator inlet quantities are equal to the rotor outlet quantities\n",
    "\n",
    "<img src=\"data/images/perf1.png\" width=\"500\" height=\"500\">\n",
    "\n",
    "<img src=\"data/images/perf2.png\" width=\"500\" height=\"500\">"
   ]
  },
  {
   "cell_type": "code",
   "execution_count": 38,
   "metadata": {},
   "outputs": [],
   "source": [
    "# air properties allocation \n",
    "R     = 287.06                  # air gas constant Ru / Mm      [J/kg K]\n",
    "gamma = 1.4                     # specific heat ratio           [--]\n",
    "cP    = gamma / (gamma - 1) * R # specific heat ratio @ P cost  [J/kg K]\n",
    "cV    = cP - R                  # specific heat ratio @ V cost  [J/kg K]\n",
    "\n",
    "# stage hypothesis\n",
    "eta = 0.923  # stage efficiency \n",
    "rD  = 0.5    # reaction degree \n",
    "phi = 0.6   # adimensionalized axial speed\n",
    "psi = 0.3    # work coefficient\n",
    "rMean = 0.7  # stage mean radius -> radius @ inlet blade midspan  \n",
    "Vt0 = 0      # inlet aboslute tangential speed"
   ]
  },
  {
   "cell_type": "markdown",
   "metadata": {},
   "source": [
    "## Rotor design"
   ]
  },
  {
   "cell_type": "markdown",
   "metadata": {},
   "source": [
    "work computation: **only** the rotor works (the stator **converts** kinetic energy into enthalpy and so also pressure variation)\n",
    "\n",
    "using:\n",
    "\n",
    "- $L_{is} = c_p \\ T_{T0} \\ (\\beta^{\\frac{\\gamma - 1}{\\gamma}} - 1) = c_P \\ (T_{T1is} - T_{T0})$\n",
    "\n",
    "- $L = \\frac{L_{is}}{\\eta} = c_P \\ (T_{T1r} - T_{T0})$"
   ]
  },
  {
   "cell_type": "code",
   "execution_count": 39,
   "metadata": {},
   "outputs": [],
   "source": [
    "# ideal compression work \n",
    "Lis = cP * Tt0 * (betaP**((gamma-1)/gamma) - 1)\n",
    "# total temperature computation\n",
    "Tt1 = Lis / cP + Tt0"
   ]
  },
  {
   "cell_type": "markdown",
   "metadata": {},
   "source": [
    "rotation speed and angular speed computation\n",
    "\n",
    "using:\n",
    "\n",
    "- $\\psi = \\frac{L_{is}}{U_{mean}^2}$\n",
    "\n",
    "- $U_{mean} = \\omega \\ r_{mean}$\n",
    "\n",
    "- $\\omega = \\frac{2 \\ \\pi n}{60}$"
   ]
  },
  {
   "cell_type": "code",
   "execution_count": 40,
   "metadata": {},
   "outputs": [],
   "source": [
    "# mean section revolution speed  \n",
    "Umean = np.sqrt(Lis / psi) \n",
    "# angular speed \n",
    "omega = Umean / rMean\n",
    "# rpm \n",
    "n = omega * 60 / (2 * np.pi)"
   ]
  },
  {
   "cell_type": "markdown",
   "metadata": {},
   "source": [
    "inlet velocity and temperature computation\n",
    "\n",
    "- $\\phi = \\frac{V_{a0}}{U_{mean}}$"
   ]
  },
  {
   "cell_type": "code",
   "execution_count": 41,
   "metadata": {},
   "outputs": [],
   "source": [
    "# axial inlet velocity \n",
    "Va0 = phi * Umean"
   ]
  },
  {
   "cell_type": "markdown",
   "metadata": {},
   "source": [
    "tangential velocity computation\n",
    "\n",
    "- $\\lambda = 2 \\ \\psi = 2 \\ \\frac{V_{t1} - V_{t0}}{U_{mean}} = \\frac{4 \\ (V_{t\\infty} - V_{t0})}{U}$\n",
    "\n",
    "- $\\chi = 1 - \\frac{V_{t\\infty}}{U_{mean}} = U_{mean} \\ (1 - \\chi - \\frac{\\lambda}{4})$\n",
    "\n",
    "- $L_{is} = \\Delta h_T = U_{mean} (V_{T1} - V_{T0})$"
   ]
  },
  {
   "cell_type": "code",
   "execution_count": 42,
   "metadata": {},
   "outputs": [],
   "source": [
    "# under Umean assumption & Vt0 assumption \n",
    "Vt1 = Lis / Umean + Vt0\n",
    "Vinft = (Vt1 + Vt0)/2"
   ]
  },
  {
   "cell_type": "markdown",
   "metadata": {},
   "source": [
    "inlet quantities\n",
    "\n",
    "- $\\boldsymbol{V} = \\boldsymbol{W} + \\boldsymbol{U}$\n",
    "\n",
    "- $a = \\sqrt{\\gamma \\ R \\ T}$\n",
    "\n",
    "- $P_0 = P_{t0} \\ (1 + \\frac{\\gamma - 1}{2} M_0^2)^{\\frac{\\gamma}{\\gamma-1}}$\n",
    "\n",
    "- $\\frac{P_0}{\\rho_0} = R \\ T_0$"
   ]
  },
  {
   "cell_type": "code",
   "execution_count": 43,
   "metadata": {},
   "outputs": [],
   "source": [
    "# main inlet quantities computation\n",
    "Wa0 = Va0\n",
    "Wt0 = Vt0 - Umean\n",
    "W0 = np.sqrt(Wa0**2 + Wt0**2)\n",
    "V0 = np.sqrt(Va0**2 + Vt0**2)\n",
    "alpha0 = np.rad2deg(np.arctan2(Vt0, Va0))\n",
    "beta0 = np.rad2deg(np.arctan2(Wt0, Wa0))\n",
    "# thermodynamics\n",
    "T0 = Tt0 - V0**2 / (2*cP)\n",
    "a0 = np.sqrt(gamma * R * T0)\n",
    "M0 = V0 / a0\n",
    "Mr0 = W0 / a0\n",
    "P0 = Pt0 / (1 + (gamma - 1)/2 * M0**2)**(gamma/(gamma-1))\n",
    "rhot0 = Pt0 / (R * Tt0)\n",
    "rho0 = rhot0 / (1 + (gamma - 1)/2 * M0**2)**(1/(gamma-1))"
   ]
  },
  {
   "cell_type": "markdown",
   "metadata": {},
   "source": [
    "outlet quantities\n",
    "\n",
    "due to ideal transformation: $\\Delta s = 0$\n",
    "\n",
    "steps: \n",
    "\n",
    "1. computing $V_1$ with velocity triangles and $L_{is}$\n",
    "2. computing $T_1$ from $L_{is} \\rightarrow T_{1is}$ and $V_1$\n",
    "3. computing $P_1$ with adiabatic + isentropic transformation given: $T_0, T_1, P_0$\n",
    "4. computing $P_{t1}$ as an isentropic transformation from $(T_1, P_1)$ to $(T_{t1}, P_{t1})$\n",
    "5. computing $\\rho_1$ from $T_1, P_1$"
   ]
  },
  {
   "cell_type": "code",
   "execution_count": 44,
   "metadata": {},
   "outputs": [],
   "source": [
    "# outlet quantities \n",
    "Va1 = Va0 \n",
    "Wa1 = Va1 \n",
    "Wt1 = Vt1 - Umean\n",
    "V1 = np.sqrt(Va1**2 + Vt1**2)\n",
    "W1 = np.sqrt(Wa1**2 + Wt1**2)\n",
    "alpha1 = np.rad2deg(np.arctan2(Vt1, Va1))\n",
    "beta1 = np.rad2deg(np.arctan2(Wt1, Wa1))\n",
    "# thermodynamics\n",
    "T1 = Tt1 - V1**2 / (2*cP)\n",
    "a1 = np.sqrt(gamma * R * T1)\n",
    "M1 = V1 / a1\n",
    "Mr1 = W1 / a1\n",
    "P1 = P0 * (T1/T0)**(gamma/(gamma-1))\n",
    "Pt1 = P1 * (Tt1/T1)**(gamma/(gamma-1))\n",
    "rhot1 = Pt1 / (R * Tt1)\n",
    "rho1 = rhot1 / (1 + (gamma - 1)/2 * M1**2)**(1/(gamma-1))"
   ]
  },
  {
   "cell_type": "markdown",
   "metadata": {},
   "source": [
    "blade height\n",
    "\n",
    "- $\\dot{m} = 2 \\ \\pi \\ r_{mean} \\ b_0 \\ V_{a0} \\ \\rho_0$\n",
    "\n",
    "- $\\dot{m} = 2 \\ \\pi \\ r_{mean} \\ b_1 \\ V_{a1} \\ \\rho_1$"
   ]
  },
  {
   "cell_type": "code",
   "execution_count": 45,
   "metadata": {},
   "outputs": [],
   "source": [
    "# inlet blade height \n",
    "b0 = mFlux / (rho0 * 2 * np.pi * rMean * Va0)\n",
    "# outlet blade height\n",
    "b1 = mFlux / (rho1 * 2 * np.pi * rMean * Va1)"
   ]
  },
  {
   "cell_type": "markdown",
   "metadata": {},
   "source": [
    "## Stator design"
   ]
  },
  {
   "cell_type": "markdown",
   "metadata": {},
   "source": [
    "Total quantities conserves in the isentropic case.\n",
    "\n",
    "Since the stator is a **stationary** component $\\boldsymbol{W} = \\boldsymbol{0}$."
   ]
  },
  {
   "cell_type": "code",
   "execution_count": 46,
   "metadata": {},
   "outputs": [],
   "source": [
    "# main outlet quantities \n",
    "Va2 = Va1 \n",
    "Pt2 = Pt1\n",
    "Tt2 = Tt1\n",
    "deltaH = Lis - cP * (T1 - T0)\n",
    "T2 = deltaH / cP + T1 \n",
    "V2 = np.sqrt(2 * cP * (Tt2 - T2))\n",
    "Vt2 = np.sqrt(V2**2 - Va2**2)\n",
    "alpha2 = np.rad2deg(np.arctan2(Vt2,Va2))\n",
    "rhot2 = Pt2 / (R * Tt2)\n",
    "# thermodynamics\n",
    "a2 = np.sqrt(gamma * R * T2)\n",
    "M2 = V2 / a2\n",
    "P2 = P1 * (T2/T1)**(gamma/(gamma-1))\n",
    "rho2 = rhot2 / (1 + (gamma - 1)/2 * M2**2)**(1/(gamma-1))"
   ]
  },
  {
   "cell_type": "markdown",
   "metadata": {},
   "source": [
    "blade height\n",
    "\n",
    "- $\\dot{m} = 2 \\ \\pi \\ r_{mean} \\ b_2 \\ V_{a2} \\ \\rho_2$"
   ]
  },
  {
   "cell_type": "code",
   "execution_count": 47,
   "metadata": {},
   "outputs": [],
   "source": [
    "# outlet blade height\n",
    "b2 = mFlux / (rho2 * 2 * np.pi * rMean * Va2)"
   ]
  },
  {
   "cell_type": "markdown",
   "metadata": {},
   "source": [
    "## print **results**"
   ]
  },
  {
   "cell_type": "code",
   "execution_count": 48,
   "metadata": {},
   "outputs": [
    {
     "name": "stdout",
     "output_type": "stream",
     "text": [
      "DEFINITIONS:\n",
      "-- 0 => rotor inlet\n",
      "-- 1 => rotor outlet\n",
      "-- 2 => stator outlet\n",
      "WORK:\n",
      "-- Lis    = 33758.53 J/kg\n",
      "TOTAL TEMPERATURE:\n",
      "-- Tt0    =   300.00 K\n",
      "-- Tt1  =   333.60 K\n",
      "ROTATION:\n",
      "-- Umean  =   335.45 m/s\n",
      "-- omega  =   479.22 rad/s\n",
      "-- n      =  4576    rpm\n",
      "AXIAL, AVERAGE AND EXIT ABSOLUTE TANGENTIAL SPEED:\n",
      "-- Va0    =   201.27 m/s\n",
      "-- Vinft  =    50.32 m/s\n",
      "-- Vt1    =   100.64 m/s\n",
      "KINETICS -- RELATIVE:\n",
      "-- 0                        -- 1                        -- 2\n",
      "-- beta0  =   -59.04 deg    -- beta1  =   -49.40 deg    -- beta2  =     0.00 deg\n",
      "-- Wa0    =   201.27 m/s    -- Wa1    =   201.27 m/s    -- Wa2    =     0.00 m/s\n",
      "-- Wt0    =  -335.45 m/s    -- Wt1    =   201.27 m/s    -- Wt2    =     0.00 m/s\n",
      "-- W0     =   391.20 m/s    -- W1     =   309.27 m/s    -- W2     =     0.00 m/s\n",
      "KINETICS -- ABSOLUTE:\n",
      "-- 0                        -- 1                        -- 2\n",
      "-- alpha0 =     0.00 deg    -- alpha1 =    26.57 deg    -- alpha2 =     0.00 deg\n",
      "-- Va0    =   201.27 m/s    -- Va1    =   201.27 m/s    -- Va2    =   201.27 m/s\n",
      "-- Vt0    =     0.00 m/s    -- Vt1    =   100.64 m/s    -- Vt2    =     0.00 m/s\n",
      "-- V0     =   201.27 m/s    -- V1     =   225.03 m/s    -- V2     =   201.27 m/s\n",
      "THERMODYNAMICS:\n",
      "-- 0                        -- 1                        -- 2\n",
      "-- T0     =   279.84 K      -- T1     =   308.40 K      -- T2     =   313.44 K     \n",
      "-- Tt0    =   300.00 K      -- Tt1    =   333.60 K      -- Tt2    =   333.60 K     \n",
      "-- a0     =   335.36 m/s    -- a1     =   352.05 m/s    -- a2     =   354.92 m/s   \n",
      "-- M0     =     0.60        -- M1     =     0.64        -- M2     =     0.57       \n",
      "-- Mr0    =     1.17        -- Mr1    =     0.88        -- Mr2    =     0.00       \n",
      "-- P0     =     0.78 bar    -- P1     =     1.10 bar    -- P2     =     1.17 bar   \n",
      "-- Pt0    =     1.00 bar    -- Pt1    =     1.45 bar    -- Pt2    =     1.45 bar   \n",
      "-- rho0   =     0.98 kg/m3  -- rho1   =     1.24 kg/m3  -- rho2   =     1.30 kg/m3\n",
      "-- rhot0  =     1.16 kg/m3  -- rhot1  =     1.51 kg/m3  -- rhot2  =     1.51 kg/m3\n",
      "PROCESSES:\n",
      "-- rD     =     0.85\n",
      "BLADE DIMENSIONS:\n",
      "-- rMean  =    70.00 cm\n",
      "-- b0     =    11.58 cm     -- b1     =     9.08 cm     -- b2     =     8.72 cm\n",
      "-- rTip0  =    75.79 cm     -- rTip1  =    74.54 cm     -- rTip2  =    74.36 cm\n",
      "-- rHub0  =    64.21 cm     -- rHub1  =    65.46 cm     -- rHub2  =    65.64 cm\n"
     ]
    }
   ],
   "source": [
    "# print data \n",
    "print('DEFINITIONS:')\n",
    "print('-- 0 => rotor inlet')\n",
    "print('-- 1 => rotor outlet')\n",
    "print('-- 2 => stator outlet')\n",
    "print('WORK:')\n",
    "print('-- Lis    = {0:>8.2f} J/kg'.format(Lis))\n",
    "print('TOTAL TEMPERATURE:')\n",
    "print('-- Tt0    = {0:>8.2f} K'.format(Tt0))\n",
    "print('-- Tt1  = {0:>8.2f} K'.format(Tt1))\n",
    "print('ROTATION:')\n",
    "print('-- Umean  = {0:>8.2f} m/s'.format(Umean))\n",
    "print('-- omega  = {0:>8.2f} rad/s'.format(omega))\n",
    "print('-- n      = {0:>5.0f}    rpm'.format(n))  \n",
    "print('AXIAL, AVERAGE AND EXIT ABSOLUTE TANGENTIAL SPEED:')\n",
    "print('-- Va0    = {0:>8.2f} m/s'.format(Va0))\n",
    "print('-- Vinft  = {0:>8.2f} m/s'.format(Vinft))\n",
    "print('-- Vt1    = {0:>8.2f} m/s'.format(Vt1))\n",
    "print('KINETICS -- RELATIVE:')\n",
    "print('-- 0                        -- 1                        -- 2')\n",
    "print('-- beta0  = {0:>8.2f} deg    -- beta1  = {1:>8.2f} deg    -- beta2  = {2:>8.2f} deg'.format(beta0, beta1, 0))\n",
    "print('-- Wa0    = {0:>8.2f} m/s    -- Wa1    = {1:>8.2f} m/s    -- Wa2    = {2:>8.2f} m/s'.format(Wa0, Wa1, 0))\n",
    "print('-- Wt0    = {0:>8.2f} m/s    -- Wt1    = {1:>8.2f} m/s    -- Wt2    = {2:>8.2f} m/s'.format(Wt0, Wa1, 0))\n",
    "print('-- W0     = {0:>8.2f} m/s    -- W1     = {1:>8.2f} m/s    -- W2     = {2:>8.2f} m/s'.format(W0, W1, 0))\n",
    "print('KINETICS -- ABSOLUTE:')\n",
    "print('-- 0                        -- 1                        -- 2')\n",
    "print('-- alpha0 = {0:>8.2f} deg    -- alpha1 = {1:>8.2f} deg    -- alpha2 = {2:>8.2f} deg'.format(alpha0, alpha1, alpha2))\n",
    "print('-- Va0    = {0:>8.2f} m/s    -- Va1    = {1:>8.2f} m/s    -- Va2    = {2:>8.2f} m/s'.format(Va0, Va1, Va2))\n",
    "print('-- Vt0    = {0:>8.2f} m/s    -- Vt1    = {1:>8.2f} m/s    -- Vt2    = {2:>8.2f} m/s'.format(Vt0, Vt1, Vt2))\n",
    "print('-- V0     = {0:>8.2f} m/s    -- V1     = {1:>8.2f} m/s    -- V2     = {2:>8.2f} m/s'.format(V0, V1, V2))\n",
    "print('THERMODYNAMICS:')\n",
    "print('-- 0                        -- 1                        -- 2')\n",
    "print('-- T0     = {0:>8.2f} K      -- T1     = {1:>8.2f} K      -- T2     = {2:>8.2f} K     '.format(T0, T1, T2))\n",
    "print('-- Tt0    = {0:>8.2f} K      -- Tt1    = {1:>8.2f} K      -- Tt2    = {2:>8.2f} K     '.format(Tt0, Tt1, Tt2))\n",
    "print('-- a0     = {0:>8.2f} m/s    -- a1     = {1:>8.2f} m/s    -- a2     = {2:>8.2f} m/s   '.format(a0, a1, a2))\n",
    "print('-- M0     = {0:>8.2f}        -- M1     = {1:>8.2f}        -- M2     = {2:>8.2f}       '.format(M0, M1, M2))\n",
    "print('-- Mr0    = {0:>8.2f}        -- Mr1    = {1:>8.2f}        -- Mr2    = {2:>8.2f}       '.format(Mr0, Mr1, 0))\n",
    "print('-- P0     = {0:>8.2f} bar    -- P1     = {1:>8.2f} bar    -- P2     = {2:>8.2f} bar   '.format(P0/1e+5, P1/1e+5, P2/1e+5))\n",
    "print('-- Pt0    = {0:>8.2f} bar    -- Pt1    = {1:>8.2f} bar    -- Pt2    = {2:>8.2f} bar   '.format(Pt0/1e+5, Pt1/1e+5, Pt2/1e+5))\n",
    "print('-- rho0   = {0:>8.2f} kg/m3  -- rho1   = {1:>8.2f} kg/m3  -- rho2   = {2:>8.2f} kg/m3'.format(rho0,rho1,rho2))\n",
    "print('-- rhot0  = {0:>8.2f} kg/m3  -- rhot1  = {1:>8.2f} kg/m3  -- rhot2  = {2:>8.2f} kg/m3'.format(rhot0,rhot1,rhot2))\n",
    "print('PROCESSES:')\n",
    "print('-- rD     = {0:>8.2f}'.format(cP * (T1 - T0) / Lis))\n",
    "print('BLADE DIMENSIONS:')\n",
    "print('-- rMean  = {0:>8.2f} cm'.format(rMean*1e+2))\n",
    "print('-- b0     = {0:>8.2f} cm     -- b1     = {1:>8.2f} cm     -- b2     = {2:>8.2f} cm'.format(b0*1e+2, b1*1e+2, b2*1e+2))\n",
    "print('-- rTip0  = {0:>8.2f} cm     -- rTip1  = {1:>8.2f} cm     -- rTip2  = {2:>8.2f} cm'.format((rMean + b0/2)*1e+2, (rMean + b1/2)*1e+2, (rMean + b2/2)*1e+2))\n",
    "print('-- rHub0  = {0:>8.2f} cm     -- rHub1  = {1:>8.2f} cm     -- rHub2  = {2:>8.2f} cm'.format((rMean - b0/2)*1e+2, (rMean - b1/2)*1e+2, (rMean - b2/2)*1e+2))"
   ]
  },
  {
   "cell_type": "markdown",
   "metadata": {},
   "source": [
    "## Rotor blade design \n",
    "#### model: **free vortex** $\\frac{\\partial r V_t}{\\partial r} = 0$\n",
    "### hypothesis:\n",
    "- $\\frac{\\partial r h_1}{\\partial r} = 0$\n",
    "\n",
    "- $\\frac{\\partial r V_{a1}}{\\partial r} = 0$\n",
    "\n",
    "- $s$ evolution along the blade span"
   ]
  },
  {
   "cell_type": "markdown",
   "metadata": {},
   "source": [
    "## Stator blade design \n",
    "#### model: **free vortex** $\\frac{\\partial r V_t}{\\partial r} = 0$\n",
    "### hypothesis:\n",
    "- $\\frac{\\partial r h_1}{\\partial r} = 0$\n",
    "\n",
    "- $\\frac{\\partial r V_{a1}}{\\partial r} = 0$\n",
    "\n",
    "- $s$ evolution along the blade span"
   ]
  },
  {
   "cell_type": "markdown",
   "metadata": {},
   "source": []
  }
 ],
 "metadata": {
  "interpreter": {
   "hash": "916dbcbb3f70747c44a77c7bcd40155683ae19c65e1c03b4aa3499c5328201f1"
  },
  "kernelspec": {
   "display_name": "Python 3.8.10 64-bit",
   "language": "python",
   "name": "python3"
  },
  "language_info": {
   "codemirror_mode": {
    "name": "ipython",
    "version": 3
   },
   "file_extension": ".py",
   "mimetype": "text/x-python",
   "name": "python",
   "nbconvert_exporter": "python",
   "pygments_lexer": "ipython3",
   "version": "3.8.10"
  },
  "orig_nbformat": 4
 },
 "nbformat": 4,
 "nbformat_minor": 2
}
